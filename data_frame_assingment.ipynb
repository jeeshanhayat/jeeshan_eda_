{
 "cells": [
  {
   "cell_type": "code",
   "execution_count": null,
   "id": "bd8ad971",
   "metadata": {},
   "outputs": [],
   "source": [
    "# import pandas as pd"
   ]
  },
  {
   "cell_type": "code",
   "execution_count": null,
   "id": "098edf17",
   "metadata": {},
   "outputs": [],
   "source": [
    "#Creating dataframes using dictionary\n",
    "d1={\"NAME\":['jeeshan','abrar','ahmad'],\n",
    "\"AGE\":[20,25,30]}\n",
    "pd.DataFrame(d1)"
   ]
  },
  {
   "cell_type": "code",
   "execution_count": null,
   "id": "7b4ab9b2",
   "metadata": {},
   "outputs": [],
   "source": [
    "d1={\"NAME\":['jeeshan','abrar','ahmad'],\n",
    "\"AGE\":[20,25,30]}\n",
    "#providing index\n",
    "ind=['A','B','C']\n",
    "pd.DataFrame(d1,index=ind)\n"
   ]
  },
  {
   "cell_type": "code",
   "execution_count": null,
   "id": "65cf1c10",
   "metadata": {},
   "outputs": [],
   "source": [
    "\n",
    "#Adding new column\n",
    "cityname=['satna','patna','hyd']\n",
    "d1['CITY']=cityname\n",
    "pd.DataFrame(d1,index=ind)"
   ]
  },
  {
   "cell_type": "code",
   "execution_count": null,
   "id": "8cd998de",
   "metadata": {},
   "outputs": [],
   "source": [
    "#update the exsisting column\n",
    "d1['NAME']=['janhavi','khushi','sapna']\n",
    "pd.DataFrame(d1,index=ind)"
   ]
  },
  {
   "cell_type": "code",
   "execution_count": null,
   "id": "b5c41806",
   "metadata": {},
   "outputs": [],
   "source": [
    "#drop the column\n",
    "df=pd.DataFrame(d1,index=ind)\n",
    "df.drop(['CITY'],axis=1,inplace=True)\n",
    "df"
   ]
  },
  {
   "cell_type": "code",
   "execution_count": null,
   "id": "81a8b228",
   "metadata": {},
   "outputs": [],
   "source": [
    "#drop the row\n",
    "df.drop(['C'],axis=0,inplace=True)\n",
    "df"
   ]
  },
  {
   "cell_type": "code",
   "execution_count": null,
   "id": "b7b4bf48",
   "metadata": {},
   "outputs": [],
   "source": [
    "#save the dataframe\n",
    "df.to_csv(\"assingment_df.csv\")\n",
    "df.to_excel(\"assingment_df.xlsx\")"
   ]
  },
  {
   "cell_type": "code",
   "execution_count": null,
   "id": "2f1261b3",
   "metadata": {},
   "outputs": [],
   "source": [
    "# read output csv\n",
    "pd.read_csv(\"assingment_df.csv\")"
   ]
  },
  {
   "cell_type": "code",
   "execution_count": null,
   "id": "cec4216f",
   "metadata": {},
   "outputs": [],
   "source": [
    "# To avoid the above problem\n",
    "# give index=Falsedf.to_csv(\"assingment_df.csv\",index=False)\n",
    "df.to_csv(\"assingment_df.csv\",index=False)"
   ]
  },
  {
   "cell_type": "code",
   "execution_count": null,
   "id": "0df148a8",
   "metadata": {},
   "outputs": [],
   "source": [
    "pd.read_csv(\"assingment_df.csv\")"
   ]
  },
  {
   "cell_type": "code",
   "execution_count": null,
   "id": "4ee6ab58",
   "metadata": {},
   "outputs": [],
   "source": []
  }
 ],
 "metadata": {
  "kernelspec": {
   "display_name": "Python 3 (ipykernel)",
   "language": "python",
   "name": "python3"
  },
  "language_info": {
   "codemirror_mode": {
    "name": "ipython",
    "version": 3
   },
   "file_extension": ".py",
   "mimetype": "text/x-python",
   "name": "python",
   "nbconvert_exporter": "python",
   "pygments_lexer": "ipython3",
   "version": "3.11.5"
  }
 },
 "nbformat": 4,
 "nbformat_minor": 5
}
